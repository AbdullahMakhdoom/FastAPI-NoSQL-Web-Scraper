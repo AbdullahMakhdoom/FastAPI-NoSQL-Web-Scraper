{
 "cells": [
  {
   "cell_type": "code",
   "execution_count": 1,
   "id": "7c8aa42f",
   "metadata": {},
   "outputs": [
    {
     "name": "stdout",
     "output_type": "stream",
     "text": [
      "/home/abdullah/Desktop/Personal_Projects/fastapi-nosql-scrape\n"
     ]
    }
   ],
   "source": [
    "cd .."
   ]
  },
  {
   "cell_type": "code",
   "execution_count": 3,
   "id": "1c7f6456",
   "metadata": {},
   "outputs": [],
   "source": [
    "from requests_html import HTML\n",
    "from slugify import slugify\n",
    "import pprint\n",
    "import re\n",
    "from app import scraper"
   ]
  },
  {
   "cell_type": "code",
   "execution_count": 4,
   "id": "b214eef3",
   "metadata": {},
   "outputs": [
    {
     "data": {
      "text/plain": [
       "'https://www.amazon.com/dp/B0758JHZM3/'"
      ]
     },
     "execution_count": 4,
     "metadata": {},
     "output_type": "execute_result"
    }
   ],
   "source": [
    "asin = \"B0758JHZM3\"\n",
    "url = f\"https://www.amazon.com/dp/{asin}/\"\n",
    "url"
   ]
  },
  {
   "cell_type": "code",
   "execution_count": 7,
   "id": "a4fae2ac",
   "metadata": {},
   "outputs": [],
   "source": [
    "s = scraper.Scraper(asin=asin, endless_scroll=True)\n"
   ]
  },
  {
   "cell_type": "code",
   "execution_count": 8,
   "id": "15ca0c82",
   "metadata": {},
   "outputs": [],
   "source": [
    "dataset = s.scrape()"
   ]
  },
  {
   "cell_type": "code",
   "execution_count": 9,
   "id": "80b03f12",
   "metadata": {},
   "outputs": [
    {
     "data": {
      "text/plain": [
       "{'price_str': '',\n",
       " 'title_str': 'Vitamix VM0197 Explorian Blender, Professional-Grade, 48 oz. Container, Black',\n",
       " 'total': '$677.67',\n",
       " 'total_raw': '$677.67',\n",
       " 'brand': 'Vitamix',\n",
       " 'color': 'Black',\n",
       " 'special-feature': 'Not-Applicable',\n",
       " 'capacity': '48 Fluid Ounces',\n",
       " 'product-dimensions': '11\"D x 8\"W x 17\"H',\n",
       " 'material': 'Tritan',\n",
       " 'included-components': \"Container^ Lid^ Tamper^ Motor Base^ Owner's Manual^ Introduction Booklet\",\n",
       " 'style': 'Blender',\n",
       " 'recommended-uses-for-product': 'Blending',\n",
       " 'power-source': 'AC',\n",
       " 'wattage': '1400 watts',\n",
       " 'number-of-speeds': '10',\n",
       " 'voltage': '120 Volts',\n",
       " 'item-weight': '11.5 Pounds',\n",
       " 'material-type-free': 'BPA Free',\n",
       " 'is-dishwasher-safe': 'Yes',\n",
       " 'blade-material': 'Stainless Steel',\n",
       " 'manufacturer': 'Vitamix',\n",
       " 'asin': 'B0758JHZM3',\n",
       " 'country-of-origin': 'USA',\n",
       " 'item-model-number': 'VM0197',\n",
       " 'customer-reviews': '/* \\n    * Fix for UDP-1061. Average customer reviews has a small extra line on hover \\n    * https://omni-grok.amazon.com/xref/src/appgroup/websiteTemplates/retail/SoftlinesDetailPageAssets/udp-intl-lock/src/legacy.css?indexName=WebsiteTemplates#40\\n    */\\n    .noUnderline a:hover { \\n        text-decoration: none; \\n    }\\n\\n\\n \\n  4.7 out of 5 stars    \\n    6,425 ratings   \\n                    P.when(\\'A\\', \\'ready\\').execute(function(A) {\\n                        A.declarative(\\'acrLink-click-metrics\\', \\'click\\', { \"allowLinkDefault\" : true }, function(event){\\n                            if(window.ue) {\\n                                ue.count(\"acrLinkClickCount\", (ue.count(\"acrLinkClickCount\") || 0) + 1);\\n                            }\\n                        });\\n                    });\\n                \\n\\n            P.when(\\'A\\', \\'cf\\').execute(function(A) {\\n                A.declarative(\\'acrStarsLink-click-metrics\\', \\'click\\', { \"allowLinkDefault\" : true },  function(event){\\n                    if(window.ue) {\\n                        ue.count(\"acrStarsLinkWithPopoverClickCount\", (ue.count(\"acrStarsLinkWithPopoverClickCount\") || 0) + 1);\\n                    }\\n                });\\n            });\\n        \\n\\n 4.7 out of 5 stars',\n",
       " 'best-sellers-rank': '#2,567 in Kitchen & Dining (See Top 100 in Kitchen & Dining)  #3 in Blender Replacement Parts  #14 in Countertop Blenders  #16 in Cocktail Drinkware',\n",
       " 'is-discontinued-by-manufacturer': 'No',\n",
       " 'date-first-available': 'August 31, 2017'}"
      ]
     },
     "execution_count": 9,
     "metadata": {},
     "output_type": "execute_result"
    }
   ],
   "source": [
    "dataset"
   ]
  },
  {
   "cell_type": "code",
   "execution_count": null,
   "id": "016bffcf",
   "metadata": {},
   "outputs": [],
   "source": []
  }
 ],
 "metadata": {
  "kernelspec": {
   "display_name": "Python 3 (ipykernel)",
   "language": "python",
   "name": "python3"
  },
  "language_info": {
   "codemirror_mode": {
    "name": "ipython",
    "version": 3
   },
   "file_extension": ".py",
   "mimetype": "text/x-python",
   "name": "python",
   "nbconvert_exporter": "python",
   "pygments_lexer": "ipython3",
   "version": "3.10.6"
  }
 },
 "nbformat": 4,
 "nbformat_minor": 5
}
