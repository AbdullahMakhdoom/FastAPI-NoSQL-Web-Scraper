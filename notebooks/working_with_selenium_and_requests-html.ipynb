{
 "cells": [
  {
   "cell_type": "code",
   "execution_count": 7,
   "id": "fa3ded3f",
   "metadata": {},
   "outputs": [
    {
     "name": "stdout",
     "output_type": "stream",
     "text": [
      "/home/abdullah/Desktop/Personal_Projects/fastapi-nosql-scrape\n"
     ]
    }
   ],
   "source": [
    "cd /home/abdullah/Desktop/Personal_Projects/fastapi-nosql-scrape/"
   ]
  },
  {
   "cell_type": "code",
   "execution_count": 39,
   "id": "4ccf73bf",
   "metadata": {},
   "outputs": [
    {
     "name": "stdout",
     "output_type": "stream",
     "text": [
      "Requirement already satisfied: requests-html in ./env/lib/python3.10/site-packages (0.10.0)\n",
      "Requirement already satisfied: pyppeteer>=0.0.14 in ./env/lib/python3.10/site-packages (from requests-html) (1.0.2)\n",
      "Requirement already satisfied: w3lib in ./env/lib/python3.10/site-packages (from requests-html) (2.1.1)\n",
      "Requirement already satisfied: requests in ./env/lib/python3.10/site-packages (from requests-html) (2.28.1)\n",
      "Requirement already satisfied: bs4 in ./env/lib/python3.10/site-packages (from requests-html) (0.0.1)\n",
      "Requirement already satisfied: parse in ./env/lib/python3.10/site-packages (from requests-html) (1.19.0)\n",
      "Requirement already satisfied: pyquery in ./env/lib/python3.10/site-packages (from requests-html) (2.0.0)\n",
      "Requirement already satisfied: fake-useragent in ./env/lib/python3.10/site-packages (from requests-html) (1.1.1)\n",
      "Requirement already satisfied: pyee<9.0.0,>=8.1.0 in ./env/lib/python3.10/site-packages (from pyppeteer>=0.0.14->requests-html) (8.2.2)\n",
      "Requirement already satisfied: certifi>=2021 in ./env/lib/python3.10/site-packages (from pyppeteer>=0.0.14->requests-html) (2022.12.7)\n",
      "Requirement already satisfied: websockets<11.0,>=10.0 in ./env/lib/python3.10/site-packages (from pyppeteer>=0.0.14->requests-html) (10.4)\n",
      "Requirement already satisfied: importlib-metadata>=1.4 in ./env/lib/python3.10/site-packages (from pyppeteer>=0.0.14->requests-html) (6.0.0)\n",
      "Requirement already satisfied: urllib3<2.0.0,>=1.25.8 in ./env/lib/python3.10/site-packages (from pyppeteer>=0.0.14->requests-html) (1.26.13)\n",
      "Requirement already satisfied: tqdm<5.0.0,>=4.42.1 in ./env/lib/python3.10/site-packages (from pyppeteer>=0.0.14->requests-html) (4.64.1)\n",
      "Requirement already satisfied: appdirs<2.0.0,>=1.4.3 in ./env/lib/python3.10/site-packages (from pyppeteer>=0.0.14->requests-html) (1.4.4)\n",
      "Requirement already satisfied: beautifulsoup4 in ./env/lib/python3.10/site-packages (from bs4->requests-html) (4.11.1)\n",
      "Requirement already satisfied: cssselect>=1.2.0 in ./env/lib/python3.10/site-packages (from pyquery->requests-html) (1.2.0)\n",
      "Requirement already satisfied: lxml>=2.1 in ./env/lib/python3.10/site-packages (from pyquery->requests-html) (4.9.2)\n",
      "Requirement already satisfied: idna<4,>=2.5 in ./env/lib/python3.10/site-packages (from requests->requests-html) (3.4)\n",
      "Requirement already satisfied: charset-normalizer<3,>=2 in ./env/lib/python3.10/site-packages (from requests->requests-html) (2.1.1)\n",
      "Requirement already satisfied: zipp>=0.5 in ./env/lib/python3.10/site-packages (from importlib-metadata>=1.4->pyppeteer>=0.0.14->requests-html) (3.11.0)\n",
      "Requirement already satisfied: soupsieve>1.2 in ./env/lib/python3.10/site-packages (from beautifulsoup4->bs4->requests-html) (2.3.2.post1)\n",
      "Requirement already satisfied: python-slugify in ./env/lib/python3.10/site-packages (7.0.0)\n",
      "Requirement already satisfied: text-unidecode>=1.3 in ./env/lib/python3.10/site-packages (from python-slugify) (1.3)\n"
     ]
    }
   ],
   "source": [
    "!pip install requests-html\n",
    "!pip install python-slugify"
   ]
  },
  {
   "cell_type": "code",
   "execution_count": 14,
   "id": "ecbee8f6",
   "metadata": {},
   "outputs": [],
   "source": [
    "from requests_html import HTML\n",
    "from app import scraper"
   ]
  },
  {
   "cell_type": "code",
   "execution_count": 19,
   "id": "36aadd72",
   "metadata": {},
   "outputs": [],
   "source": [
    "url = \"https://www.amazon.com/Atomic-Habits-Proven-Build-Break/dp/0735211299/ref=zg_sccl_2/137-6363953-8229542?pd_rd_w=UkZkq&content-id=amzn1.sym.193afb92-0c19-4833-86f8-850b5ba40291&pf_rd_p=193afb92-0c19-4833-86f8-850b5ba40291&pf_rd_r=J3S86JEB270QWQ4F6RGH&pd_rd_wg=zqVv5&pd_rd_r=d8bb7962-7796-492d-b40d-0af522fd9fad&pd_rd_i=0735211299&psc=1\"\n",
    "s = scraper.Scraper(url = url , endless_scroll=True)"
   ]
  },
  {
   "cell_type": "code",
   "execution_count": 20,
   "id": "73cf70bb",
   "metadata": {},
   "outputs": [],
   "source": [
    "html_str = s.get()"
   ]
  },
  {
   "cell_type": "code",
   "execution_count": 21,
   "id": "9cc7420a",
   "metadata": {},
   "outputs": [],
   "source": [
    "html_obj = HTML(html=html_str)"
   ]
  },
  {
   "cell_type": "code",
   "execution_count": 54,
   "id": "daa52115",
   "metadata": {},
   "outputs": [],
   "source": [
    "def extract_element_text(html_obj, element_id):\n",
    "    el = html_obj.find(element_id, first=True)\n",
    "    if not el:\n",
    "        return \"\"\n",
    "    return el.text"
   ]
  },
  {
   "cell_type": "code",
   "execution_count": 56,
   "id": "9a8b517d",
   "metadata": {},
   "outputs": [
    {
     "data": {
      "text/plain": [
       "''"
      ]
     },
     "execution_count": 56,
     "metadata": {},
     "output_type": "execute_result"
    }
   ],
   "source": [
    "price  = extract_element_text(html_obj, '#priceblock_ourprice')\n",
    "price"
   ]
  },
  {
   "cell_type": "code",
   "execution_count": 58,
   "id": "1cfe2e0d",
   "metadata": {},
   "outputs": [
    {
     "data": {
      "text/plain": [
       "'Atomic Habits: An Easy & Proven Way to Build Good Habits & Break Bad Ones'"
      ]
     },
     "execution_count": 58,
     "metadata": {},
     "output_type": "execute_result"
    }
   ],
   "source": [
    "title = extract_element_text(html_obj, '#productTitle')\n",
    "title"
   ]
  },
  {
   "cell_type": "code",
   "execution_count": 48,
   "id": "b0235e96",
   "metadata": {},
   "outputs": [],
   "source": [
    "def extract_tables(html_obj):\n",
    "    return html_obj.find('table')"
   ]
  },
  {
   "cell_type": "code",
   "execution_count": 49,
   "id": "82a9917b",
   "metadata": {},
   "outputs": [
    {
     "name": "stdout",
     "output_type": "stream",
     "text": [
      "{'isajaxinprogress-b07djtjc3x-0-isajaxcomplete-b07djtjc3x-0': 'James Clear  '\n",
      "                                                              '(Author)    › '\n",
      "                                                              \"Visit Amazon's \"\n",
      "                                                              'James Clear '\n",
      "                                                              'Page   Find all '\n",
      "                                                              'the books, read '\n",
      "                                                              'about the '\n",
      "                                                              'author, and '\n",
      "                                                              'more.   See '\n",
      "                                                              'search results '\n",
      "                                                              'for this author',\n",
      " 'total': '$31.48'}\n"
     ]
    }
   ],
   "source": [
    "from slugify import slugify\n",
    "from pprint import pprint\n",
    "\n",
    "pprint(dataset)"
   ]
  },
  {
   "cell_type": "code",
   "execution_count": 64,
   "id": "bbbc9c4f",
   "metadata": {},
   "outputs": [],
   "source": [
    "import re\n",
    "\n",
    "def extract_price_from_string(value: str, regex=r\"[\\$]{1}[\\d,]+\\.?\\d{0,2}\"):\n",
    "    x = re.findall(regex, value)\n",
    "    val = None\n",
    "    if len(x) == 1:\n",
    "        val = x[0]\n",
    "    return val"
   ]
  },
  {
   "cell_type": "code",
   "execution_count": 65,
   "id": "2d0076d3",
   "metadata": {},
   "outputs": [],
   "source": [
    "def extract_dataset(tables):\n",
    "    dataset = {}\n",
    "\n",
    "    for table in tables:\n",
    "        for tbody in table.element.getchildren():\n",
    "            for tr in tbody.getchildren():\n",
    "                row = []\n",
    "                for col in tr.getchildren():\n",
    "                    content = \"\"\n",
    "                    try:\n",
    "                        content = col.text_content()\n",
    "                    except:\n",
    "                        pass\n",
    "                    if content != \"\":\n",
    "                        _content = content.strip()\n",
    "                        row.append(_content)\n",
    "\n",
    "                if len(row) != 2:\n",
    "                    continue\n",
    "                key = row[0]\n",
    "                value = row[1]\n",
    "                data = {}\n",
    "                key = slugify(key)\n",
    "                if key in dataset:\n",
    "                    continue\n",
    "                else:\n",
    "                    if '$' in value:\n",
    "                        new_key = key\n",
    "                        old_key = f'{key}_raw'\n",
    "                        new_value = extract_price_from_string(value)\n",
    "                        old_value = value\n",
    "                        dataset[new_key] = new_value\n",
    "                        dataset[old_key] = old_value\n",
    "                    else:\n",
    "                        dataset[key] = value\n",
    "    \n",
    "    return dataset"
   ]
  },
  {
   "cell_type": "code",
   "execution_count": 66,
   "id": "49181bc2",
   "metadata": {},
   "outputs": [],
   "source": [
    "tables = extract_tables(html_obj)\n",
    "dataset = extract_dataset(tables)"
   ]
  },
  {
   "cell_type": "code",
   "execution_count": 67,
   "id": "b28d2b21",
   "metadata": {},
   "outputs": [
    {
     "name": "stdout",
     "output_type": "stream",
     "text": [
      "{'isajaxinprogress-b07djtjc3x-0-isajaxcomplete-b07djtjc3x-0': 'James Clear  '\n",
      "                                                              '(Author)    › '\n",
      "                                                              \"Visit Amazon's \"\n",
      "                                                              'James Clear '\n",
      "                                                              'Page   Find all '\n",
      "                                                              'the books, read '\n",
      "                                                              'about the '\n",
      "                                                              'author, and '\n",
      "                                                              'more.   See '\n",
      "                                                              'search results '\n",
      "                                                              'for this author',\n",
      " 'total': '$31.48',\n",
      " 'total_raw': '$31.48'}\n"
     ]
    }
   ],
   "source": [
    "pprint(dataset)"
   ]
  },
  {
   "cell_type": "code",
   "execution_count": null,
   "id": "3f5e9875",
   "metadata": {},
   "outputs": [],
   "source": []
  }
 ],
 "metadata": {
  "kernelspec": {
   "display_name": "Python 3 (ipykernel)",
   "language": "python",
   "name": "python3"
  },
  "language_info": {
   "codemirror_mode": {
    "name": "ipython",
    "version": 3
   },
   "file_extension": ".py",
   "mimetype": "text/x-python",
   "name": "python",
   "nbconvert_exporter": "python",
   "pygments_lexer": "ipython3",
   "version": "3.10.6"
  }
 },
 "nbformat": 4,
 "nbformat_minor": 5
}
