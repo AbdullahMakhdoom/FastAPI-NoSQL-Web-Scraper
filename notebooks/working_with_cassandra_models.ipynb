{
 "cells": [
  {
   "cell_type": "code",
   "execution_count": 1,
   "id": "18a2ffe2",
   "metadata": {},
   "outputs": [
    {
     "name": "stdout",
     "output_type": "stream",
     "text": [
      "/home/abdullah/Desktop/Personal_Projects/fastapi-nosql-scrape\n"
     ]
    }
   ],
   "source": [
    "cd /home/abdullah/Desktop/Personal_Projects/fastapi-nosql-scrape/"
   ]
  },
  {
   "cell_type": "code",
   "execution_count": 2,
   "id": "b9080ebc",
   "metadata": {},
   "outputs": [],
   "source": [
    "from app import crud, models"
   ]
  },
  {
   "cell_type": "code",
   "execution_count": 3,
   "id": "73c667b2",
   "metadata": {},
   "outputs": [],
   "source": [
    "data = {\"asin\":\"AMZNIDNUBER3\", \"title\":\"Zara_Mens_T-Shirt\", \"price_str\":\"29$\"}"
   ]
  },
  {
   "cell_type": "code",
   "execution_count": 4,
   "id": "79a9dd43",
   "metadata": {},
   "outputs": [
    {
     "data": {
      "text/plain": [
       "(Product(asin='AMZNIDNUBER3', title='Zara_Mens_T-Shirt', price_str='29$'),\n",
       " ProductScrapeEvent(uuid=UUID('41283eae-8ffd-11ed-ad82-45f64977683f'), asin='AMZNIDNUBER3', title='Zara_Mens_T-Shirt', price_str='29$'))"
      ]
     },
     "execution_count": 4,
     "metadata": {},
     "output_type": "execute_result"
    }
   ],
   "source": [
    "crud.add_scrape_event(data, fresh=True)"
   ]
  },
  {
   "cell_type": "code",
   "execution_count": 13,
   "id": "ad03241d",
   "metadata": {},
   "outputs": [
    {
     "name": "stdout",
     "output_type": "stream",
     "text": [
      "tsting123\n",
      "AMZNIDNUBER3\n",
      "AMZNIDNUBER2\n",
      "AMZNIDNUBER1\n"
     ]
    }
   ],
   "source": [
    "for obj in models.Product.objects().all():\n",
    "    print(obj.asin)"
   ]
  },
  {
   "cell_type": "code",
   "execution_count": 15,
   "id": "09508bc2",
   "metadata": {},
   "outputs": [
    {
     "name": "stdout",
     "output_type": "stream",
     "text": [
      "68ce84e8-8f64-11ed-ad82-45f64977683f\n",
      "6bc5099d-8f64-11ed-ad82-45f64977683f\n",
      "5b905ec9-8f64-11ed-ad82-45f64977683f\n",
      "6d72895e-8f64-11ed-ad82-45f64977683f\n",
      "59ba6cba-8f64-11ed-ad82-45f64977683f\n",
      "69e85444-8f64-11ed-ad82-45f64977683f\n",
      "5b905ec8-8f64-11ed-ad82-45f64977683f\n",
      "6bc5099c-8f64-11ed-ad82-45f64977683f\n",
      "6d72895f-8f64-11ed-ad82-45f64977683f\n"
     ]
    }
   ],
   "source": [
    "for obj in models.ProductScrapeEvent.objects.filter(asin=\"tsting123\"):\n",
    "    print(obj.uuid)"
   ]
  },
  {
   "cell_type": "code",
   "execution_count": 14,
   "id": "3cfe5fa5",
   "metadata": {},
   "outputs": [
    {
     "name": "stdout",
     "output_type": "stream",
     "text": [
      "tsting123\n",
      "AMZNIDNUBER3\n",
      "AMZNIDNUBER3\n",
      "tsting123\n",
      "tsting123\n",
      "tsting123\n",
      "tsting123\n",
      "AMZNIDNUBER3\n",
      "tsting123\n",
      "tsting123\n",
      "tsting123\n",
      "tsting123\n"
     ]
    }
   ],
   "source": [
    "for obj in models.ProductScrapeEvent.objects().all():\n",
    "    print(obj.asin)"
   ]
  },
  {
   "cell_type": "code",
   "execution_count": null,
   "id": "7490d6b3",
   "metadata": {},
   "outputs": [],
   "source": []
  }
 ],
 "metadata": {
  "kernelspec": {
   "display_name": "Python 3 (ipykernel)",
   "language": "python",
   "name": "python3"
  },
  "language_info": {
   "codemirror_mode": {
    "name": "ipython",
    "version": 3
   },
   "file_extension": ".py",
   "mimetype": "text/x-python",
   "name": "python",
   "nbconvert_exporter": "python",
   "pygments_lexer": "ipython3",
   "version": "3.10.6"
  }
 },
 "nbformat": 4,
 "nbformat_minor": 5
}
