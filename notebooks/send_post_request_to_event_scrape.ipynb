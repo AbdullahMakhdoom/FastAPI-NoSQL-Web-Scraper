{
 "cells": [
  {
   "cell_type": "code",
   "execution_count": 1,
   "id": "d1dde514",
   "metadata": {},
   "outputs": [],
   "source": [
    "import requests"
   ]
  },
  {
   "cell_type": "code",
   "execution_count": 7,
   "id": "bf07c755",
   "metadata": {},
   "outputs": [
    {
     "name": "stdout",
     "output_type": "stream",
     "text": [
      "{'asin': '123testasin', 'title': 'abc123', 'price_str': '$19.99'}\n"
     ]
    }
   ],
   "source": [
    "endpoint = \"http://127.0.0.1:8000/events/scrape\"\n",
    "asin = \"123testasin\"\n",
    "r = requests.post(endpoint, json={\"asin\": asin, \"title\": \"abc123\", \"price_str\": \"$19.99\"})\n",
    "print(r.json())"
   ]
  },
  {
   "cell_type": "code",
   "execution_count": 8,
   "id": "a4189e29",
   "metadata": {},
   "outputs": [
    {
     "name": "stdout",
     "output_type": "stream",
     "text": [
      "[{'asin': '123testasin', 'title': 'abc123', 'price_str': '$19.99', 'created': 1674367585.525016}, {'asin': '123testasin', 'title': 'abc123', 'price_str': '$19.99', 'created': 1674367588.936988}, {'asin': '123testasin', 'title': 'abc123', 'price_str': '$19.99', 'created': 1674367565.503099}]\n"
     ]
    }
   ],
   "source": [
    "endpoint2 = f\"http://127.0.0.1:8000/products/{asin}/events\"\n",
    "\n",
    "r2 = requests.get(endpoint2)\n",
    "print(r2.json())"
   ]
  },
  {
   "cell_type": "code",
   "execution_count": null,
   "id": "a943a2f3",
   "metadata": {},
   "outputs": [],
   "source": []
  }
 ],
 "metadata": {
  "kernelspec": {
   "display_name": "Python 3 (ipykernel)",
   "language": "python",
   "name": "python3"
  },
  "language_info": {
   "codemirror_mode": {
    "name": "ipython",
    "version": 3
   },
   "file_extension": ".py",
   "mimetype": "text/x-python",
   "name": "python",
   "nbconvert_exporter": "python",
   "pygments_lexer": "ipython3",
   "version": "3.10.6"
  }
 },
 "nbformat": 4,
 "nbformat_minor": 5
}
