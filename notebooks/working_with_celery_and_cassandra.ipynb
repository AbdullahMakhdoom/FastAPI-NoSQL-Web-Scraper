{
 "cells": [
  {
   "cell_type": "code",
   "execution_count": 1,
   "id": "9605ff96",
   "metadata": {},
   "outputs": [
    {
     "name": "stdout",
     "output_type": "stream",
     "text": [
      "/home/abdullah/Desktop/Personal_Projects/fastapi-nosql-scrape\n"
     ]
    }
   ],
   "source": [
    "cd /home/abdullah/Desktop/Personal_Projects/fastapi-nosql-scrape/"
   ]
  },
  {
   "cell_type": "code",
   "execution_count": 6,
   "id": "27b3aa30",
   "metadata": {},
   "outputs": [],
   "source": [
    "from app.worker import list_products\n",
    "from app import db"
   ]
  },
  {
   "cell_type": "code",
   "execution_count": 7,
   "id": "90759104",
   "metadata": {},
   "outputs": [
    {
     "name": "stdout",
     "output_type": "stream",
     "text": [
      "['tsting123', 'AMZNIDNUBER3', 'AMZNIDNUBER2', 'AMZNIDNUBER1', '123testasin']\n"
     ]
    }
   ],
   "source": [
    "session = db.get_session()\n",
    "list_products()"
   ]
  },
  {
   "cell_type": "code",
   "execution_count": 4,
   "id": "c575f0d5",
   "metadata": {},
   "outputs": [
    {
     "data": {
      "text/plain": [
       "<AsyncResult: a102a432-b267-4389-b2fe-ff0cc1856bf9>"
      ]
     },
     "execution_count": 4,
     "metadata": {},
     "output_type": "execute_result"
    }
   ],
   "source": [
    "list_products.delay()"
   ]
  },
  {
   "cell_type": "code",
   "execution_count": null,
   "id": "b9ae6dd5",
   "metadata": {},
   "outputs": [],
   "source": []
  },
  {
   "cell_type": "code",
   "execution_count": null,
   "id": "9bf7c4ca",
   "metadata": {},
   "outputs": [],
   "source": []
  },
  {
   "cell_type": "code",
   "execution_count": null,
   "id": "2a757f21",
   "metadata": {},
   "outputs": [],
   "source": []
  }
 ],
 "metadata": {
  "kernelspec": {
   "display_name": "Python 3 (ipykernel)",
   "language": "python",
   "name": "python3"
  },
  "language_info": {
   "codemirror_mode": {
    "name": "ipython",
    "version": 3
   },
   "file_extension": ".py",
   "mimetype": "text/x-python",
   "name": "python",
   "nbconvert_exporter": "python",
   "pygments_lexer": "ipython3",
   "version": "3.10.6"
  }
 },
 "nbformat": 4,
 "nbformat_minor": 5
}
