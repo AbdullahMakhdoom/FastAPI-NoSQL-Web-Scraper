{
 "cells": [
  {
   "cell_type": "code",
   "execution_count": 4,
   "id": "18a2ffe2",
   "metadata": {},
   "outputs": [
    {
     "name": "stdout",
     "output_type": "stream",
     "text": [
      "/home/abdullah/Desktop/Personal_Projects/fastapi-nosql-scrape\n"
     ]
    }
   ],
   "source": [
    "cd /home/abdullah/Desktop/Personal_Projects/fastapi-nosql-scrape/"
   ]
  },
  {
   "cell_type": "code",
   "execution_count": 5,
   "id": "b9080ebc",
   "metadata": {},
   "outputs": [],
   "source": [
    "from app import db, crud, models, schema"
   ]
  },
  {
   "cell_type": "code",
   "execution_count": 6,
   "id": "94edcb84",
   "metadata": {},
   "outputs": [],
   "source": [
    "session = db.get_session()"
   ]
  },
  {
   "cell_type": "code",
   "execution_count": 7,
   "id": "73c667b2",
   "metadata": {},
   "outputs": [],
   "source": [
    "data = {\"asin\":\"AMZNIDNUBER3\", \"title\":\"Zara_Mens_T-Shirt\", \"price_str\":\"29$\"}"
   ]
  },
  {
   "cell_type": "code",
   "execution_count": 8,
   "id": "79a9dd43",
   "metadata": {},
   "outputs": [
    {
     "data": {
      "text/plain": [
       "(Product(asin='AMZNIDNUBER3', title='Zara_Mens_T-Shirt', price_str='29$'),\n",
       " ProductScrapeEvent(uuid=UUID('44a99014-93e5-11ed-ad82-45f64977683f'), asin='AMZNIDNUBER3', title='Zara_Mens_T-Shirt', price_str='29$'))"
      ]
     },
     "execution_count": 8,
     "metadata": {},
     "output_type": "execute_result"
    }
   ],
   "source": [
    "crud.add_scrape_event(data, fresh=True)"
   ]
  },
  {
   "cell_type": "code",
   "execution_count": 9,
   "id": "f24f0f8d",
   "metadata": {},
   "outputs": [],
   "source": [
    "from pydantic import BaseModel"
   ]
  },
  {
   "cell_type": "code",
   "execution_count": 10,
   "id": "eaed7261",
   "metadata": {},
   "outputs": [],
   "source": [
    "class ProductSchema(BaseModel):\n",
    "    asin: str\n",
    "    title: str\n",
    "    "
   ]
  },
  {
   "cell_type": "code",
   "execution_count": 14,
   "id": "45bd441f",
   "metadata": {},
   "outputs": [
    {
     "name": "stdout",
     "output_type": "stream",
     "text": [
      "tsting123\n",
      "AMZNIDNUBER3\n",
      "AMZNIDNUBER2\n",
      "AMZNIDNUBER1\n"
     ]
    }
   ],
   "source": [
    "for obj in models.Product.objects().all():\n",
    "    print(obj.asin)"
   ]
  },
  {
   "cell_type": "code",
   "execution_count": null,
   "id": "f3b0c747",
   "metadata": {},
   "outputs": [],
   "source": [
    "from pydantic import ValidationError\n",
    "import uuid\n",
    "\n",
    "data = dict(data)\n",
    "data['uuid'] = uuid.uuid1()\n",
    "\n",
    "try:\n",
    "    schema.ProductScrapeEventSchema(**data)\n",
    "except ValidationError as e:\n",
    "    print(e.json())"
   ]
  },
  {
   "cell_type": "code",
   "execution_count": null,
   "id": "07e75536",
   "metadata": {},
   "outputs": [],
   "source": []
  },
  {
   "cell_type": "code",
   "execution_count": null,
   "id": "0ddaa8dc",
   "metadata": {},
   "outputs": [],
   "source": []
  },
  {
   "cell_type": "code",
   "execution_count": null,
   "id": "e2393987",
   "metadata": {},
   "outputs": [],
   "source": []
  },
  {
   "cell_type": "code",
   "execution_count": null,
   "id": "9b42ff71",
   "metadata": {},
   "outputs": [],
   "source": []
  }
 ],
 "metadata": {
  "kernelspec": {
   "display_name": "Python 3 (ipykernel)",
   "language": "python",
   "name": "python3"
  },
  "language_info": {
   "codemirror_mode": {
    "name": "ipython",
    "version": 3
   },
   "file_extension": ".py",
   "mimetype": "text/x-python",
   "name": "python",
   "nbconvert_exporter": "python",
   "pygments_lexer": "ipython3",
   "version": "3.10.6"
  }
 },
 "nbformat": 4,
 "nbformat_minor": 5
}
