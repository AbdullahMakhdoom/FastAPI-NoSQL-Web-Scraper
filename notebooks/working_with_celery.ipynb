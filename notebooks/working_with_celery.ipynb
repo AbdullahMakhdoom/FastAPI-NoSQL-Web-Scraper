{
 "cells": [
  {
   "cell_type": "code",
   "execution_count": 16,
   "id": "18a2ffe2",
   "metadata": {},
   "outputs": [
    {
     "name": "stdout",
     "output_type": "stream",
     "text": [
      "/home/abdullah/Desktop/Personal_Projects/fastapi-nosql-scrape\n"
     ]
    }
   ],
   "source": [
    "cd /home/abdullah/Desktop/Personal_Projects/fastapi-nosql-scrape/"
   ]
  },
  {
   "cell_type": "code",
   "execution_count": 9,
   "id": "b9080ebc",
   "metadata": {},
   "outputs": [],
   "source": [
    "from app.worker import random_task"
   ]
  },
  {
   "cell_type": "code",
   "execution_count": 10,
   "id": "10ae6480",
   "metadata": {},
   "outputs": [
    {
     "data": {
      "text/plain": [
       "<AsyncResult: 4c2db7e3-84ae-4cc7-acbd-c6c8390cdd26>"
      ]
     },
     "execution_count": 10,
     "metadata": {},
     "output_type": "execute_result"
    }
   ],
   "source": [
    "random_task.delay(\"Jake\")"
   ]
  },
  {
   "cell_type": "raw",
   "id": "d691c67a",
   "metadata": {},
   "source": [
    "random_task(\"Jake\")"
   ]
  },
  {
   "cell_type": "code",
   "execution_count": 11,
   "id": "6cb34217",
   "metadata": {},
   "outputs": [],
   "source": [
    "for i in range(10):\n",
    "    random_task.delay(f\"Jake-{i}\")"
   ]
  },
  {
   "cell_type": "code",
   "execution_count": 14,
   "id": "cc4e3443",
   "metadata": {},
   "outputs": [],
   "source": [
    "for i in range(10):\n",
    "    random_task.apply_async(args=(f\"Jake-{i}\", ), countdown=10)"
   ]
  },
  {
   "cell_type": "code",
   "execution_count": 19,
   "id": "cf3b5207",
   "metadata": {},
   "outputs": [
    {
     "ename": "ImportError",
     "evalue": "cannot import name 'list_products' from 'app.worker' (/home/abdullah/Desktop/Personal_Projects/fastapi-nosql-scrape/app/worker.py)",
     "output_type": "error",
     "traceback": [
      "\u001b[0;31m---------------------------------------------------------------------------\u001b[0m",
      "\u001b[0;31mImportError\u001b[0m                               Traceback (most recent call last)",
      "Cell \u001b[0;32mIn[19], line 1\u001b[0m\n\u001b[0;32m----> 1\u001b[0m \u001b[38;5;28;01mfrom\u001b[39;00m \u001b[38;5;21;01mapp\u001b[39;00m\u001b[38;5;21;01m.\u001b[39;00m\u001b[38;5;21;01mworker\u001b[39;00m \u001b[38;5;28;01mimport\u001b[39;00m list_products\n",
      "\u001b[0;31mImportError\u001b[0m: cannot import name 'list_products' from 'app.worker' (/home/abdullah/Desktop/Personal_Projects/fastapi-nosql-scrape/app/worker.py)"
     ]
    }
   ],
   "source": [
    "from app.worker import list_products"
   ]
  },
  {
   "cell_type": "code",
   "execution_count": null,
   "id": "17f5e866",
   "metadata": {},
   "outputs": [],
   "source": []
  },
  {
   "cell_type": "code",
   "execution_count": null,
   "id": "da4959ee",
   "metadata": {},
   "outputs": [],
   "source": []
  }
 ],
 "metadata": {
  "kernelspec": {
   "display_name": "Python 3 (ipykernel)",
   "language": "python",
   "name": "python3"
  },
  "language_info": {
   "codemirror_mode": {
    "name": "ipython",
    "version": 3
   },
   "file_extension": ".py",
   "mimetype": "text/x-python",
   "name": "python",
   "nbconvert_exporter": "python",
   "pygments_lexer": "ipython3",
   "version": "3.10.6"
  }
 },
 "nbformat": 4,
 "nbformat_minor": 5
}
